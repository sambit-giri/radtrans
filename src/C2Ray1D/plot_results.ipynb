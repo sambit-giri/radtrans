{
 "cells": [
  {
   "cell_type": "code",
   "execution_count": 1,
   "id": "3e028734",
   "metadata": {},
   "outputs": [],
   "source": [
    "import numpy as np\n",
    "import tools21cm as t2c"
   ]
  },
  {
   "cell_type": "code",
   "execution_count": 2,
   "id": "c68d9126",
   "metadata": {},
   "outputs": [],
   "source": [
    "import os, sys\n",
    "from glob import glob"
   ]
  },
  {
   "cell_type": "code",
   "execution_count": 3,
   "id": "e2c5d119",
   "metadata": {},
   "outputs": [],
   "source": [
    "files_test1 = glob('Ifront1_*.dat')"
   ]
  },
  {
   "cell_type": "code",
   "execution_count": 4,
   "id": "0e956489",
   "metadata": {},
   "outputs": [
    {
     "data": {
      "text/plain": [
       "['Ifront1_0.530.dat',\n",
       " 'Ifront1_0.040.dat',\n",
       " 'Ifront1_0.120.dat',\n",
       " 'Ifront1_0.450.dat',\n",
       " 'Ifront1_0.860.dat',\n",
       " 'Ifront1_0.690.dat',\n",
       " 'Ifront1_0.900.dat',\n",
       " 'Ifront1_0.280.dat',\n",
       " 'Ifront1_0.080.dat',\n",
       " 'Ifront1_0.490.dat',\n",
       " 'Ifront1_0.320.dat',\n",
       " 'Ifront1_0.650.dat',\n",
       " 'Ifront1_0.730.dat',\n",
       " 'Ifront1_0.240.dat',\n",
       " 'Ifront1_0.250.dat',\n",
       " 'Ifront1_0.720.dat',\n",
       " 'Ifront1_0.640.dat',\n",
       " 'Ifront1_0.330.dat',\n",
       " 'Ifront1_0.480.dat',\n",
       " 'Ifront1_0.090.dat',\n",
       " 'Ifront1_0.290.dat',\n",
       " 'Ifront1_0.910.dat',\n",
       " 'Ifront1_0.870.dat',\n",
       " 'Ifront1_0.680.dat',\n",
       " 'Ifront1_0.440.dat',\n",
       " 'Ifront1_0.130.dat',\n",
       " 'Ifront1_0.050.dat',\n",
       " 'Ifront1_0.520.dat',\n",
       " 'Ifront1_0.590.dat',\n",
       " 'Ifront1_0.180.dat',\n",
       " 'Ifront1_0.340.dat',\n",
       " 'Ifront1_0.630.dat',\n",
       " 'Ifront1_0.750.dat',\n",
       " 'Ifront1_0.220.dat',\n",
       " 'Ifront1_0.550.dat',\n",
       " 'Ifront1_0.020.dat',\n",
       " 'Ifront1_0.140.dat',\n",
       " 'Ifront1_0.430.dat',\n",
       " 'Ifront1_0.380.dat',\n",
       " 'Ifront1_0.800.dat',\n",
       " 'Ifront1_0.960.dat',\n",
       " 'Ifront1_0.790.dat',\n",
       " 'Ifront1_0.970.dat',\n",
       " 'Ifront1_0.780.dat',\n",
       " 'Ifront1_0.810.dat',\n",
       " 'Ifront1_0.390.dat',\n",
       " 'Ifront1_0.420.dat',\n",
       " 'Ifront1_0.150.dat',\n",
       " 'Ifront1_0.030.dat',\n",
       " 'Ifront1_0.540.dat',\n",
       " 'Ifront1_0.230.dat',\n",
       " 'Ifront1_0.740.dat',\n",
       " 'Ifront1_0.620.dat',\n",
       " 'Ifront1_0.350.dat',\n",
       " 'Ifront1_0.190.dat',\n",
       " 'Ifront1_0.580.dat',\n",
       " 'Ifront1_0.200.dat',\n",
       " 'Ifront1_0.770.dat',\n",
       " 'Ifront1_0.980.dat',\n",
       " 'Ifront1_0.610.dat',\n",
       " 'Ifront1_0.360.dat',\n",
       " 'Ifront1_0.940.dat',\n",
       " 'Ifront1_0.820.dat',\n",
       " 'Ifront1_0.410.dat',\n",
       " 'Ifront1_0.160.dat',\n",
       " 'Ifront1_0.000.dat',\n",
       " 'Ifront1_0.570.dat',\n",
       " 'Ifront1_0.560.dat',\n",
       " 'Ifront1_0.010.dat',\n",
       " 'Ifront1_0.170.dat',\n",
       " 'Ifront1_0.400.dat',\n",
       " 'Ifront1_0.830.dat',\n",
       " 'Ifront1_0.950.dat',\n",
       " 'Ifront1_1.000.dat',\n",
       " 'Ifront1_0.370.dat',\n",
       " 'Ifront1_0.600.dat',\n",
       " 'Ifront1_0.760.dat',\n",
       " 'Ifront1_0.990.dat',\n",
       " 'Ifront1_0.210.dat',\n",
       " 'Ifront1_0.920.dat',\n",
       " 'Ifront1_0.840.dat',\n",
       " 'Ifront1_0.470.dat',\n",
       " 'Ifront1_0.100.dat',\n",
       " 'Ifront1_0.060.dat',\n",
       " 'Ifront1_0.510.dat',\n",
       " 'Ifront1_0.260.dat',\n",
       " 'Ifront1_0.710.dat',\n",
       " 'Ifront1_0.670.dat',\n",
       " 'Ifront1_0.880.dat',\n",
       " 'Ifront1_0.300.dat',\n",
       " 'Ifront1_0.310.dat',\n",
       " 'Ifront1_0.660.dat',\n",
       " 'Ifront1_0.890.dat',\n",
       " 'Ifront1_0.700.dat',\n",
       " 'Ifront1_0.270.dat',\n",
       " 'Ifront1_0.500.dat',\n",
       " 'Ifront1_0.070.dat',\n",
       " 'Ifront1_0.110.dat',\n",
       " 'Ifront1_0.460.dat',\n",
       " 'Ifront1_0.850.dat',\n",
       " 'Ifront1_0.930.dat']"
      ]
     },
     "execution_count": 4,
     "metadata": {},
     "output_type": "execute_result"
    }
   ],
   "source": []
  },
  {
   "cell_type": "code",
   "execution_count": null,
   "id": "0fd0cd57",
   "metadata": {},
   "outputs": [],
   "source": []
  }
 ],
 "metadata": {
  "kernelspec": {
   "display_name": "Python 3 (ipykernel)",
   "language": "python",
   "name": "python3"
  },
  "language_info": {
   "codemirror_mode": {
    "name": "ipython",
    "version": 3
   },
   "file_extension": ".py",
   "mimetype": "text/x-python",
   "name": "python",
   "nbconvert_exporter": "python",
   "pygments_lexer": "ipython3",
   "version": "3.10.6"
  }
 },
 "nbformat": 4,
 "nbformat_minor": 5
}
